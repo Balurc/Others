{
 "cells": [
  {
   "cell_type": "code",
   "execution_count": 1,
   "metadata": {},
   "outputs": [],
   "source": [
    "import requests\n",
    "from bs4 import BeautifulSoup\n",
    "\n",
    "url = 'http://www.espn.com/nba/statistics/player/_/stat/assists/sort/avgAssists/year/2018/seasontype/2'\n",
    "\n",
    "headers = {'User-Agent':'Mozilla/5.0'}\n",
    "\n",
    "# to get the user agent: try this url:https://www.whoishostingthis.com/tools/user-agent/\n",
    "\n",
    "response = requests.get(url, headers = headers)\n",
    "\n",
    "soup = BeautifulSoup(response.content, 'html.parser')\n",
    "\n",
    "stat_table = soup.find_all('table', class_ = 'tablehead')[0]\n",
    "\n",
    "\n",
    "with open ('basktetball_stats.txt', 'w') as r: # code to write the results to txt file\n",
    "    for row in stat_table.find_all('tr'):\n",
    "        for cell in row.find_all('td'):\n",
    "            r.write(cell.text.ljust(26)) # ljust(), to add spaces\n",
    "        r.write('\\n')"
   ]
  },
  {
   "cell_type": "code",
   "execution_count": 2,
   "metadata": {},
   "outputs": [],
   "source": [
    "# TO SCRAPE ALL THE PAGES\n",
    "\n",
    "import requests\n",
    "from bs4 import BeautifulSoup\n",
    "import time\n",
    "\n",
    "with open ('basktetball_stats.txt', 'w') as r:\n",
    "    r.write('BASKETBALL ASSIST TABLE\\n')\n",
    "num = 1\n",
    "while num < 272:\n",
    "\n",
    "    url = 'http://www.espn.com/nba/statistics/player/_/stat/assists/sort/avgAssists/count/{}'.format(num)\n",
    "    headers = {'User-Agent':'Mozilla/5.0'}\n",
    "    response = requests.get(url, headers)\n",
    "    time.sleep(1)\n",
    "\n",
    "    if response.status_code == 200:\n",
    "        soup = BeautifulSoup(response.content, 'html.parser')\n",
    "        stat_table = soup.find_all('table', class_ = 'tablehead')[0]\n",
    "\n",
    "        with open ('basktetball_stats.txt', 'a') as r:\n",
    "            for row in stat_table.find_all('tr'):\n",
    "                for cell in row.find_all('td'):\n",
    "                    r.write(cell.text.ljust(26))\n",
    "                r.write('\\n')\n",
    "    else:\n",
    "        print('No Response')\n",
    "        print(num)\n",
    "\n",
    "    num += 40 # the increment for pages"
   ]
  }
 ],
 "metadata": {
  "kernelspec": {
   "display_name": "Python 3",
   "language": "python",
   "name": "python3"
  },
  "language_info": {
   "codemirror_mode": {
    "name": "ipython",
    "version": 3
   },
   "file_extension": ".py",
   "mimetype": "text/x-python",
   "name": "python",
   "nbconvert_exporter": "python",
   "pygments_lexer": "ipython3",
   "version": "3.6.5"
  }
 },
 "nbformat": 4,
 "nbformat_minor": 2
}
